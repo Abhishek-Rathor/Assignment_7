{
 "cells": [
  {
   "cell_type": "code",
   "execution_count": null,
   "id": "a3a791b4-a230-499d-b86b-8bf9a3a1a6fd",
   "metadata": {},
   "outputs": [],
   "source": [
    "Q1. What is an API? Give an example, where an API is used in real life.\n",
    "Ans. Api is a set of rules ,which we communicate through between the system\n",
    "example of Api Netflix, Google.\n",
    "Api is used in gmail application etc."
   ]
  },
  {
   "cell_type": "code",
   "execution_count": null,
   "id": "94c18488-f80f-42aa-bf73-4c192edeb849",
   "metadata": {},
   "outputs": [],
   "source": [
    "Q2. Give advantages and disadvantages of using API.\n",
    "Ans.\n",
    "Advantage:- (1) Api is platform independent\n",
    "(2) Strong typing can used in Api\n",
    "(3)Api if Flexible ans scalable\n",
    "\n",
    "Disadvantage:-(1) Extra bandwidth required\n",
    "(2) SOAP client can not hold useful refrence to remote objects\n",
    "(3)SOAP utilize XML formate and is lenthy\n"
   ]
  },
  {
   "cell_type": "code",
   "execution_count": null,
   "id": "e76a97ad-0738-4e79-96c0-a3234589886a",
   "metadata": {},
   "outputs": [],
   "source": [
    "Q3. What is a Web API? Differentiate between API and Web API.\n",
    "Ans. Web API is a subset of API . \n",
    "API:- (1) It is used Tcp/ip\n",
    "(2) All web services are API\n",
    "(3) It support XML\n",
    "(4)It can be used by any client who understand XML\n",
    "\n",
    "WEB API:-\n",
    "(1)All API are not web services.\n",
    "(2)It is subset of APi\n",
    "(3)it support also support XML and one extra langauge json and many more langauges\n",
    "(4)it can be used by whic clients who understand XML and json\n",
    "\n",
    "\n"
   ]
  },
  {
   "cell_type": "code",
   "execution_count": null,
   "id": "04d9f60b-f0e8-4d9d-85cf-e0d4fc6cdc97",
   "metadata": {},
   "outputs": [],
   "source": [
    "Q4. Explain REST and SOAP Architecture. Mention shortcomings of SOAP.\n",
    "Ans. Rest:- Rest is simply based on web architecture, these are transfere data by HTTP.\n",
    "Rest is always known as simplicity and scalablity and rest is also flexible\n",
    "SOAP:- SOAP is XML based , SOAP used usdl.\n",
    "SOAP architecture support HTTP, STMP,TCP/IP\n"
   ]
  },
  {
   "cell_type": "code",
   "execution_count": null,
   "id": "cec5cd3e-b4c0-4a60-8c79-f04fb5b86c0f",
   "metadata": {},
   "outputs": [],
   "source": [
    "Q5. Differentiate between REST and SOAP.\n",
    "Ans. Rest:- Rest is simply based on web architecture, these are transfere data by HTTP.\n",
    "Rest is always known as simplicity and scalablity and rest is also flexible\n",
    "SOAP:- SOAP is XML based , SOAP used usdl.\n",
    "SOAP architecture support HTTP, STMP,TCP/IP\n"
   ]
  }
 ],
 "metadata": {
  "kernelspec": {
   "display_name": "Python 3 (ipykernel)",
   "language": "python",
   "name": "python3"
  },
  "language_info": {
   "codemirror_mode": {
    "name": "ipython",
    "version": 3
   },
   "file_extension": ".py",
   "mimetype": "text/x-python",
   "name": "python",
   "nbconvert_exporter": "python",
   "pygments_lexer": "ipython3",
   "version": "3.10.8"
  }
 },
 "nbformat": 4,
 "nbformat_minor": 5
}
